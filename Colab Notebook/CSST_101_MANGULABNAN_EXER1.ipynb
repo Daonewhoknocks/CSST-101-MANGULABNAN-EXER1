{
  "nbformat": 4,
  "nbformat_minor": 0,
  "metadata": {
    "colab": {
      "provenance": []
    },
    "kernelspec": {
      "name": "python3",
      "display_name": "Python 3"
    },
    "language_info": {
      "name": "python"
    }
  },
  "cells": [
    {
      "cell_type": "code",
      "execution_count": 15,
      "metadata": {
        "id": "3p6enzm5VndE",
        "colab": {
          "base_uri": "https://localhost:8080/"
        },
        "outputId": "47ab8e91-1f1f-4505-a8ae-0a31ca936bd8"
      },
      "outputs": [
        {
          "output_type": "stream",
          "name": "stdout",
          "text": [
            "Is it raining? Yes\n",
            "Is the ground wet? Yes\n",
            "Will the match light? No\n"
          ]
        }
      ],
      "source": [
        "its_raining = True\n",
        "the_ground_is_wet = its_raining\n",
        "match_will_light = not the_ground_is_wet\n",
        "\n",
        "print(f\"Is it raining? {'Yes' if its_raining else 'No'}\")\n",
        "print(f\"Is the ground wet? {'Yes' if the_ground_is_wet else 'No'}\")\n",
        "print(f\"Will the match light? {'Yes' if match_will_light else 'No'}\")"
      ]
    }
  ]
}