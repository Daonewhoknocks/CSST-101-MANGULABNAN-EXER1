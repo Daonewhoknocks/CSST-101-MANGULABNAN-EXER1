{
  "nbformat": 4,
  "nbformat_minor": 0,
  "metadata": {
    "colab": {
      "provenance": []
    },
    "kernelspec": {
      "name": "python3",
      "display_name": "Python 3"
    },
    "language_info": {
      "name": "python"
    }
  },
  "cells": [
    {
      "cell_type": "code",
      "execution_count": 23,
      "metadata": {
        "id": "3p6enzm5VndE",
        "colab": {
          "base_uri": "https://localhost:8080/"
        },
        "outputId": "427f8552-ea6f-4d90-9f94-758fbdf76626"
      },
      "outputs": [
        {
          "output_type": "stream",
          "name": "stdout",
          "text": [
            "The conclusion derived from modus ponens:\n",
            "b is false\n",
            "y is true\n",
            "d is true\n"
          ]
        }
      ],
      "source": [
        "def modus(rules, facts):\n",
        "  conclusions = set()\n",
        "\n",
        "  for rules in rules:\n",
        "    premise, conclusion = rules\n",
        "\n",
        "    if premise in facts:\n",
        "      conclusions.add(conclusion)\n",
        "\n",
        "  return conclusions\n",
        "\n",
        "rules = [(\"x is true\", \"y is true\"), (\"a is true\", \"b is false\"), (\"c is true\", \"d is true\")]\n",
        "facts = {\"x is true\", \"a is true\", \"c is true\"}\n",
        "conclusions = modus(rules, facts)\n",
        "\n",
        "print(\"The conclusion derived from modus ponens:\")\n",
        "for conclusion in conclusions:\n",
        "  print(conclusion)"
      ]
    }
  ]
}