{
  "nbformat": 4,
  "nbformat_minor": 0,
  "metadata": {
    "colab": {
      "provenance": []
    },
    "kernelspec": {
      "name": "python3",
      "display_name": "Python 3"
    },
    "language_info": {
      "name": "python"
    }
  },
  "cells": [
    {
      "cell_type": "code",
      "execution_count": 25,
      "metadata": {
        "id": "3p6enzm5VndE",
        "colab": {
          "base_uri": "https://localhost:8080/"
        },
        "outputId": "5a558861-08fd-484c-d634-a8607135b144"
      },
      "outputs": [
        {
          "output_type": "stream",
          "name": "stdout",
          "text": [
            "Status: John is hungry\n",
            "After eating: John is not hungry\n"
          ]
        }
      ],
      "source": [
        "is_hungry = True\n",
        "\n",
        "def will_eat(is_hugnry):\n",
        "  return is_hungry\n",
        "\n",
        "def not_hungry(has_eaten):\n",
        "  return not has_eaten\n",
        "\n",
        "def hunger_status(is_hungry):\n",
        "  if is_hungry:\n",
        "    has_eaten = will_eat(is_hungry)\n",
        "    is_hungry = not_hungry(has_eaten)\n",
        "  return is_hungry\n",
        "\n",
        "print(f\"Status: John is {'hungry' if is_hungry else 'not hungry'}\")\n",
        "\n",
        "is_hungry = hunger_status(is_hungry)\n",
        "\n",
        "print(f\"After eating: John is {'hungry' if is_hungry else 'not hungry'}\")"
      ]
    }
  ]
}