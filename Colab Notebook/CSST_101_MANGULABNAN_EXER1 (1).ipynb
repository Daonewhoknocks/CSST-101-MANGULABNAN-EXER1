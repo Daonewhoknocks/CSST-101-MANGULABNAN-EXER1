{
  "nbformat": 4,
  "nbformat_minor": 0,
  "metadata": {
    "colab": {
      "provenance": []
    },
    "kernelspec": {
      "name": "python3",
      "display_name": "Python 3"
    },
    "language_info": {
      "name": "python"
    }
  },
  "cells": [
    {
      "cell_type": "code",
      "execution_count": 16,
      "metadata": {
        "id": "3p6enzm5VndE",
        "colab": {
          "base_uri": "https://localhost:8080/"
        },
        "outputId": "dcf04f42-b0ce-4efa-ebe4-6e454b009f18"
      },
      "outputs": [
        {
          "output_type": "stream",
          "name": "stdout",
          "text": [
            "Is socrates moratl? Yes\n"
          ]
        }
      ],
      "source": [
        "def is_a_human(x):\n",
        "  human = {\"socrates\"}\n",
        "  return x in human\n",
        "\n",
        "def is_mortal(x):\n",
        "  return is_a_human(x)\n",
        "\n",
        "socrates = \"socrates\"\n",
        "socrates_is_mortal = is_mortal(socrates)\n",
        "\n",
        "print(f\"Is {socrates} moratl? {'Yes' if socrates_is_mortal else 'No'}\")"
      ]
    }
  ]
}